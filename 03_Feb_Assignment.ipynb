{
 "cells": [
  {
   "cell_type": "code",
   "execution_count": 1,
   "id": "d6b836d8-b5a2-4d70-b293-9b6ccfdcd8a7",
   "metadata": {},
   "outputs": [
    {
     "data": {
      "text/plain": [
       "'Q1. Which keyword is used to create a function? Create a function to return a list of odd numbers in the\\nrange of 1 to 25.'"
      ]
     },
     "execution_count": 1,
     "metadata": {},
     "output_type": "execute_result"
    }
   ],
   "source": [
    "\"\"\"Q1. Which keyword is used to create a function? Create a function to return a list of odd numbers in the\n",
    "range of 1 to 25.\"\"\""
   ]
  },
  {
   "cell_type": "code",
   "execution_count": 10,
   "id": "1dfe52a0-7a96-483a-9665-dce0999938f0",
   "metadata": {},
   "outputs": [],
   "source": [
    "l =[]\n",
    "def odd():\n",
    "    for a in range(1,25):\n",
    "           print(a)\n",
    "    return(l.append(a*2-1))"
   ]
  },
  {
   "cell_type": "code",
   "execution_count": 11,
   "id": "6339883e-73d6-45b8-ba1b-f1c74421ab88",
   "metadata": {},
   "outputs": [
    {
     "data": {
      "text/plain": [
       "[]"
      ]
     },
     "execution_count": 11,
     "metadata": {},
     "output_type": "execute_result"
    }
   ],
   "source": [
    "l"
   ]
  },
  {
   "cell_type": "code",
   "execution_count": 12,
   "id": "4faedffa-2795-44fa-9369-fe041cf29983",
   "metadata": {},
   "outputs": [
    {
     "name": "stdout",
     "output_type": "stream",
     "text": [
      "1\n",
      "2\n",
      "3\n",
      "4\n",
      "5\n",
      "6\n",
      "7\n",
      "8\n",
      "9\n",
      "10\n",
      "11\n",
      "12\n",
      "13\n",
      "14\n",
      "15\n",
      "16\n",
      "17\n",
      "18\n",
      "19\n",
      "20\n",
      "21\n",
      "22\n",
      "23\n",
      "24\n"
     ]
    }
   ],
   "source": [
    "odd()"
   ]
  },
  {
   "cell_type": "code",
   "execution_count": null,
   "id": "b7cf6eda-1cdd-4c8b-a086-4f3f27ac421e",
   "metadata": {},
   "outputs": [],
   "source": []
  },
  {
   "cell_type": "markdown",
   "id": "9e89a79d-6569-45ce-8c1e-2ea3b4ead09e",
   "metadata": {},
   "source": [
    "\"\"\"2):- Why *args and **kwargs is used in some functions? Create a function each for *args and **kwargs\n",
    "to demonstrate their use.\"\"\"\n",
    "\n",
    "What is python argument??\n",
    "The special syntax *args in function definitions in python is used to pass a variable number of arguments to a function. It is used to pass a non-key worded, variable-length argument list. \n",
    "\n",
    "what is python keywords??\n",
    "The special syntax **kwargs in function definitions in python is used to pass a keyworded, variable-length argument list. We use the name kwargs with the double star. The reason is that the double star allows us to pass through keyword arguments (and any number of them).\n",
    "\n",
    "A keyword argument is where you provide a name to the variable as you pass it into the function"
   ]
  },
  {
   "cell_type": "code",
   "execution_count": 66,
   "id": "e9340481-8754-4b9f-a9dc-aad602b33a04",
   "metadata": {},
   "outputs": [],
   "source": [
    "# Some example:-\n",
    "# takes nothing and return nothing \n",
    "def add():\n",
    "    a =int(input(\"Enter a number:-\"))\n",
    "    b =int(input(\"Enter a second number\"))\n",
    "    c =a+b\n",
    "    print(\"Sum of two number.\",c)"
   ]
  },
  {
   "cell_type": "code",
   "execution_count": 68,
   "id": "59fe97ed-1bae-4b14-b9db-9a497b25d535",
   "metadata": {},
   "outputs": [
    {
     "name": "stdin",
     "output_type": "stream",
     "text": [
      "Enter a number:- 10\n",
      "Enter a second number 10\n"
     ]
    },
    {
     "name": "stdout",
     "output_type": "stream",
     "text": [
      "Sum of two number. 20\n"
     ]
    }
   ],
   "source": [
    "add()"
   ]
  },
  {
   "cell_type": "code",
   "execution_count": 72,
   "id": "1e3e924e-e6cb-4dcf-a6bd-20ed15737085",
   "metadata": {},
   "outputs": [
    {
     "name": "stdin",
     "output_type": "stream",
     "text": [
      "Enter a first number. 25\n",
      "enter a second number. 2\n"
     ]
    }
   ],
   "source": [
    "# Some example:-\n",
    "# takes Something and return nothing \n",
    "a =int(input(\"Enter a first number.\"))\n",
    "b =int(input(\"enter a second number.\"))\n",
    "def sub(a,b):\n",
    "    c=a-b\n",
    "    print(\"Substraction two number\",c)"
   ]
  },
  {
   "cell_type": "code",
   "execution_count": 73,
   "id": "8e5a45d9-619a-4586-85af-a53afdbfcdec",
   "metadata": {},
   "outputs": [
    {
     "name": "stdout",
     "output_type": "stream",
     "text": [
      "Substraction two number 23\n"
     ]
    }
   ],
   "source": [
    "sub(a,b)"
   ]
  },
  {
   "cell_type": "code",
   "execution_count": 77,
   "id": "d0b17e34-7517-4199-8cce-eb099e6b3267",
   "metadata": {},
   "outputs": [],
   "source": [
    "# Some example:-\n",
    "# takes nothing and return something\n",
    "def mul():\n",
    "    x=int(input(\"Enter a number\"))\n",
    "    y=int(input(\"Enter a second number\"))\n",
    "    z=x*y\n",
    "    return(\"Multification of two number.\",z)"
   ]
  },
  {
   "cell_type": "code",
   "execution_count": null,
   "id": "eff57af3-2489-477a-96bd-97d37d2ed90a",
   "metadata": {},
   "outputs": [],
   "source": []
  },
  {
   "cell_type": "code",
   "execution_count": 78,
   "id": "5fd23601-6618-4d98-b3d0-7f1a09b40696",
   "metadata": {},
   "outputs": [
    {
     "name": "stdin",
     "output_type": "stream",
     "text": [
      "Enter a number 10\n",
      "Enter a second number 5\n"
     ]
    },
    {
     "data": {
      "text/plain": [
       "('Multification of two number.', 50)"
      ]
     },
     "execution_count": 78,
     "metadata": {},
     "output_type": "execute_result"
    }
   ],
   "source": [
    "mul()"
   ]
  },
  {
   "cell_type": "code",
   "execution_count": 79,
   "id": "664a6f77-34e9-4ada-9602-b3d37bed4d92",
   "metadata": {},
   "outputs": [
    {
     "name": "stdin",
     "output_type": "stream",
     "text": [
      "Enter a number. 10\n",
      "Enter a second number. 5\n"
     ]
    }
   ],
   "source": [
    "#some examples:-\n",
    "#takes something and return something\n",
    "x=int(input(\"Enter a number.\"))\n",
    "y=int(input(\"Enter a second number.\"))\n",
    "def div(x,y):\n",
    "    d=x//y\n",
    "    return(\"Division of two number\",d)"
   ]
  },
  {
   "cell_type": "code",
   "execution_count": 81,
   "id": "e68b2e7c-bf08-44b5-9c91-c7dc6054ae7d",
   "metadata": {},
   "outputs": [
    {
     "data": {
      "text/plain": [
       "('Division of two number', 2)"
      ]
     },
     "execution_count": 81,
     "metadata": {},
     "output_type": "execute_result"
    }
   ],
   "source": [
    "div(x,y)"
   ]
  },
  {
   "cell_type": "code",
   "execution_count": null,
   "id": "d1213d94-d46a-4a7b-aee1-8ac283f0feaa",
   "metadata": {},
   "outputs": [],
   "source": []
  },
  {
   "cell_type": "markdown",
   "id": "65284a28-5ff6-4d3f-9a0a-26e73338aa25",
   "metadata": {},
   "source": [
    "\"\"\"Q3. What is an iterator in python? Name the method used to initialise the iterator object and the method\n",
    "used for iteration. Use these methods to print the first five elements of the given list [2, 4, 6, 8, 10, 12, 14,\n",
    "16, 18, 20].\"\"\""
   ]
  },
  {
   "cell_type": "code",
   "execution_count": 82,
   "id": "6ef5c915-d41f-42d7-b340-80e4964c49a4",
   "metadata": {},
   "outputs": [],
   "source": [
    "l =[2,4,6,8,10,12,14,16,18,20]"
   ]
  },
  {
   "cell_type": "code",
   "execution_count": 89,
   "id": "49dbb168-b69f-4d01-ae66-df09a8b01405",
   "metadata": {},
   "outputs": [
    {
     "name": "stdout",
     "output_type": "stream",
     "text": [
      "4\n",
      "6\n",
      "8\n",
      "10\n",
      "12\n",
      "14\n",
      "16\n",
      "18\n",
      "20\n",
      "22\n",
      "24\n",
      "26\n",
      "28\n",
      "30\n",
      "32\n",
      "34\n",
      "36\n",
      "38\n"
     ]
    }
   ],
   "source": [
    "for a in range(2,20):\n",
    "    print(a*2)\n"
   ]
  },
  {
   "cell_type": "code",
   "execution_count": null,
   "id": "dd0958b9-c1b1-457b-900b-0541c243c21e",
   "metadata": {},
   "outputs": [],
   "source": []
  },
  {
   "cell_type": "code",
   "execution_count": null,
   "id": "76adde00-03d1-4003-b75f-66834394630b",
   "metadata": {},
   "outputs": [],
   "source": [
    "# Q4.What is a generator function in python? Why yield keyword is used? Give an example of a generator \n",
    "# function.\n",
    "\"\"\"\n",
    "    Generator funvtion in python:-\n",
    "                Generator-Function: A generator-function is defined like a normal function, \n",
    "                but whenever it needs to generate a value, it does so with the yield keyword rather than return. \n",
    "                If the body of a def contains yield, the function automatically becomes a generator function.\n",
    "    Yield keyword:-\n",
    "                What is yield?\n",
    "                In Python, yield is a keyword that can be used as a function return statement. \n",
    "                In the yield case, the function does not return output but rather a generator object that can be iterated over. \n",
    "                Each time you iterate, Python runs the code until it encounters a yield statement inside the function. \n",
    "                It then sends the computed values and suspends the function in that state without exiting. The next time the function is called, \n",
    "                it restores the state in which it was last suspended, and execution continues from there\n",
    "\"\"\"\n",
    "def fun_generator():\n",
    "    yield \"Hello world!!\"\n",
    "    yield \"Geeksforgeeks\"\n",
    " \n",
    " \n",
    "obj = fun_generator()\n",
    " \n",
    "print(type(obj))\n",
    " \n",
    "print(next(obj))\n",
    "print(next(obj))"
   ]
  },
  {
   "cell_type": "code",
   "execution_count": null,
   "id": "132dae1b-3b1c-4bcb-965d-f6174c07211b",
   "metadata": {},
   "outputs": [],
   "source": []
  },
  {
   "cell_type": "code",
   "execution_count": null,
   "id": "c2f700f6-48f4-42cb-bf09-46fb0f8a10eb",
   "metadata": {},
   "outputs": [],
   "source": [
    "# Q5. Create a generator function for prime numbers less than 1000. Use the next() method to print the \n",
    "# first 20 prime numbers."
   ]
  },
  {
   "cell_type": "code",
   "execution_count": 22,
   "id": "ff2df246-cd5f-4ea2-9163-eaf35d80e7ed",
   "metadata": {},
   "outputs": [
    {
     "data": {
      "text/plain": [
       "<generator object getPrimes at 0x7f5bbd790350>"
      ]
     },
     "execution_count": 22,
     "metadata": {},
     "output_type": "execute_result"
    }
   ],
   "source": [
    "getPrimes(10)"
   ]
  },
  {
   "cell_type": "code",
   "execution_count": 24,
   "id": "33bf573f-e54d-4f19-8c35-58120e31df5c",
   "metadata": {},
   "outputs": [
    {
     "name": "stdout",
     "output_type": "stream",
     "text": [
      "55\n"
     ]
    }
   ],
   "source": [
    "print(a)"
   ]
  },
  {
   "cell_type": "code",
   "execution_count": 23,
   "id": "d6e55303-2cc6-419e-8bfe-43414740957c",
   "metadata": {},
   "outputs": [],
   "source": [
    "# Q6. Write a python program to print the first 10 Fibonacci numbers using a while loop."
   ]
  },
  {
   "cell_type": "code",
   "execution_count": 17,
   "id": "3286b9da-031e-49bf-aa87-ff93ee611a6f",
   "metadata": {},
   "outputs": [
    {
     "name": "stdout",
     "output_type": "stream",
     "text": [
      "0\n",
      "1\n",
      "1\n",
      "2\n",
      "3\n",
      "5\n",
      "8\n",
      "13\n",
      "21\n",
      "34\n"
     ]
    }
   ],
   "source": [
    "a = 0\n",
    "b = 1\n",
    "i=1\n",
    "while i<=10:\n",
    "    print(a)\n",
    "    c =a+b\n",
    "    a =b\n",
    "    b =c\n",
    "    i=i+1"
   ]
  },
  {
   "cell_type": "code",
   "execution_count": null,
   "id": "7e716fe1-944e-4ef0-9a74-4960702ae257",
   "metadata": {},
   "outputs": [],
   "source": []
  },
  {
   "cell_type": "code",
   "execution_count": 15,
   "id": "2b9a2072-7c13-4dfb-92e5-af644c13c3d6",
   "metadata": {},
   "outputs": [
    {
     "data": {
      "text/plain": [
       "[None, None, None, None, None, None, None, None]"
      ]
     },
     "execution_count": 15,
     "metadata": {},
     "output_type": "execute_result"
    }
   ],
   "source": [
    "# #Q7. Write a List Comprehension to iterate through the given string: ‘pwskills’.\n",
    "# Expected output: ['p', 'w', 's', 'k', 'i', 'l', 'l', 's']\n",
    "l='pwskills'\n",
    "l1=[]\n",
    "[l1.append(a[0:8]) for a in l]"
   ]
  },
  {
   "cell_type": "code",
   "execution_count": 95,
   "id": "1e13d271-d3e1-4a12-8b87-7f8188845aad",
   "metadata": {},
   "outputs": [
    {
     "data": {
      "text/plain": [
       "['p', 'w', 's', 'k', 'i', 'l', 'l', 's']"
      ]
     },
     "execution_count": 95,
     "metadata": {},
     "output_type": "execute_result"
    }
   ],
   "source": [
    "l1"
   ]
  },
  {
   "cell_type": "code",
   "execution_count": null,
   "id": "2893d661-565a-45ba-8277-e285e960e7d1",
   "metadata": {},
   "outputs": [],
   "source": []
  },
  {
   "cell_type": "code",
   "execution_count": 98,
   "id": "80dc4cc4-0013-4cf6-883e-e99f11cb1dc6",
   "metadata": {},
   "outputs": [
    {
     "data": {
      "text/plain": [
       "[1,\n",
       " 3,\n",
       " 5,\n",
       " 7,\n",
       " 9,\n",
       " 11,\n",
       " 13,\n",
       " 15,\n",
       " 17,\n",
       " 19,\n",
       " 21,\n",
       " 23,\n",
       " 25,\n",
       " 27,\n",
       " 29,\n",
       " 31,\n",
       " 33,\n",
       " 35,\n",
       " 37,\n",
       " 39,\n",
       " 41,\n",
       " 43,\n",
       " 45,\n",
       " 47,\n",
       " 49,\n",
       " 51,\n",
       " 53,\n",
       " 55,\n",
       " 57,\n",
       " 59,\n",
       " 61,\n",
       " 63,\n",
       " 65,\n",
       " 67,\n",
       " 69,\n",
       " 71,\n",
       " 73,\n",
       " 75,\n",
       " 77,\n",
       " 79,\n",
       " 81,\n",
       " 83,\n",
       " 85,\n",
       " 87,\n",
       " 89,\n",
       " 91,\n",
       " 93,\n",
       " 95,\n",
       " 97,\n",
       " 99,\n",
       " 101,\n",
       " 103,\n",
       " 105,\n",
       " 107,\n",
       " 109,\n",
       " 111,\n",
       " 113,\n",
       " 115,\n",
       " 117,\n",
       " 119,\n",
       " 121,\n",
       " 123,\n",
       " 125,\n",
       " 127,\n",
       " 129,\n",
       " 131,\n",
       " 133,\n",
       " 135,\n",
       " 137,\n",
       " 139,\n",
       " 141,\n",
       " 143,\n",
       " 145,\n",
       " 147,\n",
       " 149,\n",
       " 151,\n",
       " 153,\n",
       " 155,\n",
       " 157,\n",
       " 159,\n",
       " 161,\n",
       " 163,\n",
       " 165,\n",
       " 167,\n",
       " 169,\n",
       " 171,\n",
       " 173,\n",
       " 175,\n",
       " 177,\n",
       " 179,\n",
       " 181,\n",
       " 183,\n",
       " 185,\n",
       " 187,\n",
       " 189,\n",
       " 191,\n",
       " 193,\n",
       " 195,\n",
       " 197]"
      ]
     },
     "execution_count": 98,
     "metadata": {},
     "output_type": "execute_result"
    }
   ],
   "source": [
    "# Q9. Write a code to print odd numbers from 1 to 100 using list comprehension.\n",
    "[(a*2-1) for a in range(1,100)]"
   ]
  },
  {
   "cell_type": "code",
   "execution_count": null,
   "id": "3840f312-b2ae-43a4-bdbd-beea41dac954",
   "metadata": {},
   "outputs": [],
   "source": []
  }
 ],
 "metadata": {
  "kernelspec": {
   "display_name": "Python 3 (ipykernel)",
   "language": "python",
   "name": "python3"
  },
  "language_info": {
   "codemirror_mode": {
    "name": "ipython",
    "version": 3
   },
   "file_extension": ".py",
   "mimetype": "text/x-python",
   "name": "python",
   "nbconvert_exporter": "python",
   "pygments_lexer": "ipython3",
   "version": "3.10.6"
  }
 },
 "nbformat": 4,
 "nbformat_minor": 5
}
